{
 "cells": [
  {
   "cell_type": "markdown",
   "metadata": {},
   "source": [
    "# Vessel Route Prediction using Bidirectional GRU Neural Network\n",
    "\n",
    "This Jupyter notebook focuses on the preprocessing of vessel position and trajectory data, obtained through an antenna located on the roof of the University of Piraeus Central Building. Our primary objective is to train a neural network, utilizing masking layers and bidirectional GRU, to analyze and predict vessel routes accurately."
   ]
  },
  {
   "cell_type": "code",
   "execution_count": null,
   "metadata": {},
   "outputs": [],
   "source": [
    "import numpy as np\n",
    "import pandas as pd\n",
    "import geopandas as gpd\n",
    "import warnings\n",
    "\n",
    "warnings.filterwarnings(\"ignore\")"
   ]
  },
  {
   "cell_type": "code",
   "execution_count": null,
   "metadata": {},
   "outputs": [],
   "source": [
    "trips =pd.read_csv('../Dataset_after/trips.csv')\n",
    "trajectories = pd.read_csv('../Dataset_after/trajectories.csv')\n",
    "positions = pd.read_csv('cleaned_data.csv')"
   ]
  },
  {
   "cell_type": "markdown",
   "metadata": {},
   "source": [
    "## Pre-Processing"
   ]
  },
  {
   "cell_type": "code",
   "execution_count": null,
   "metadata": {},
   "outputs": [],
   "source": [
    "trajectories.dtypes"
   ]
  },
  {
   "cell_type": "markdown",
   "metadata": {},
   "source": [
    "It seems that we'll need to convert the start_time & end_time to datetime."
   ]
  },
  {
   "cell_type": "code",
   "execution_count": null,
   "metadata": {},
   "outputs": [],
   "source": [
    "trajectories['start_time'] = pd.to_datetime(trajectories['start_time'])\n",
    "trajectories['end_time'] = pd.to_datetime(trajectories['end_time'])\n",
    "\n",
    "trajectories.dtypes"
   ]
  },
  {
   "cell_type": "code",
   "execution_count": null,
   "metadata": {},
   "outputs": [],
   "source": [
    "trajectories['status'].value_counts()"
   ]
  },
  {
   "cell_type": "markdown",
   "metadata": {},
   "source": [
    "We don't care about trajectories of status 1 & 5 because we want to have moving vessels only."
   ]
  },
  {
   "cell_type": "code",
   "execution_count": null,
   "metadata": {},
   "outputs": [],
   "source": [
    "trajectories = trajectories[(trajectories['status'] != 1 )& (trajectories['status'] != 5 )]\n",
    "trajectories['status'].value_counts()"
   ]
  },
  {
   "cell_type": "markdown",
   "metadata": {},
   "source": [
    "Clean the columns we won't need."
   ]
  },
  {
   "cell_type": "code",
   "execution_count": null,
   "metadata": {},
   "outputs": [],
   "source": [
    "positions.drop(columns=['geom','geometry','location_geometry','Unnamed: 0'], inplace=True)\n",
    "positions.columns"
   ]
  },
  {
   "cell_type": "markdown",
   "metadata": {},
   "source": [
    "We will only keep the vessels that appeared in **Piraeus Port, which is the port with code 23** and the **type of these vessels are 60-69, which is the passenger vessels.**"
   ]
  },
  {
   "cell_type": "code",
   "execution_count": null,
   "metadata": {},
   "outputs": [],
   "source": [
    "piraeus_passengers = list(positions[(positions['port_code'] == 23) & (positions['type'] >= 60) & (positions['type'] <= 69)]['vessel_id'].unique())"
   ]
  },
  {
   "cell_type": "markdown",
   "metadata": {},
   "source": [
    "Keep the vessel position with velocity in knots within the range (1,50), because we want them to be sure that they moving and also it is very rare to have vessels with velocity more than 50 knots."
   ]
  },
  {
   "cell_type": "code",
   "execution_count": null,
   "metadata": {},
   "outputs": [],
   "source": [
    "positions= positions.loc[positions['velocity in knots'].between(1,50, inclusive='neither')].copy()\n",
    "len(positions)"
   ]
  },
  {
   "cell_type": "code",
   "execution_count": null,
   "metadata": {},
   "outputs": [],
   "source": [
    "import matplotlib.pyplot as plt\n",
    "\n",
    "plt.boxplot( positions['velocity in knots'])\n",
    "plt.show()"
   ]
  },
  {
   "cell_type": "markdown",
   "metadata": {},
   "source": [
    "We will drop as outliers, the positions where the vessels had over 30 knots speed, because we can see that most of the vessels have speed under 30 knots:"
   ]
  },
  {
   "cell_type": "markdown",
   "metadata": {},
   "source": [
    "pos_moving = positions.loc[positions['velocity in knots'].between(1,30, inclusive='neither')].copy()\n",
    "pos_moving"
   ]
  },
  {
   "cell_type": "markdown",
   "metadata": {},
   "source": [
    "We will create a GeoDataframe in **crs = 4326** and then transform it to **crs = 2100** because we want to have it in Greek CRS where the coordinates are calclulated in meters. We will use the meter calculated coordinates to then create a loss function in our neural network that calclulates the loss as the **Euclidean Distance** between the prediction and the real position."
   ]
  },
  {
   "cell_type": "code",
   "execution_count": null,
   "metadata": {},
   "outputs": [],
   "source": [
    "gdf = gpd.GeoDataFrame(pos_moving, geometry=gpd.points_from_xy(pos_moving['lon'], pos_moving['lat']), crs=4326)\n",
    "gdf"
   ]
  },
  {
   "cell_type": "code",
   "execution_count": null,
   "metadata": {},
   "outputs": [],
   "source": [
    "gdf = gdf.to_crs('EPSG:2100')\n",
    "gdf"
   ]
  },
  {
   "cell_type": "code",
   "execution_count": null,
   "metadata": {},
   "outputs": [],
   "source": [
    "gdf['longitude'] = gdf.geometry.x\n",
    "gdf['latitude'] = gdf.geometry.y\n",
    "gdf"
   ]
  },
  {
   "cell_type": "markdown",
   "metadata": {},
   "source": [
    "Drop the vessel positions of status 1 & 5, beause we only want vessels that are moving for our location prediction problem (check the statuse here: https://help.marinetraffic.com/hc/en-us/articles/203990998-What-is-the-significance-of-the-AIS-Navigational-Status-Values-)"
   ]
  },
  {
   "cell_type": "code",
   "execution_count": null,
   "metadata": {},
   "outputs": [],
   "source": [
    "gdf = gdf[(gdf['Status'] != 1 ) & (gdf['Status'] != 5 )]\n",
    "gdf.drop(columns=['lon','lat'], inplace = True)\n",
    "gdf"
   ]
  },
  {
   "cell_type": "code",
   "execution_count": null,
   "metadata": {},
   "outputs": [],
   "source": [
    "gdf.port_code.value_counts()"
   ]
  },
  {
   "cell_type": "markdown",
   "metadata": {},
   "source": [
    "Every vessel position is out of port, in the open sea."
   ]
  },
  {
   "cell_type": "code",
   "execution_count": null,
   "metadata": {},
   "outputs": [],
   "source": [
    "gdf.dtypes"
   ]
  },
  {
   "cell_type": "markdown",
   "metadata": {},
   "source": [
    "Make the timestamp t datetime:"
   ]
  },
  {
   "cell_type": "code",
   "execution_count": null,
   "metadata": {},
   "outputs": [],
   "source": [
    "gdf['t'] = pd.to_datetime(gdf['t'])\n",
    "gdf.dtypes"
   ]
  },
  {
   "cell_type": "markdown",
   "metadata": {},
   "source": [
    "Let's keep only the trajectories that have a start and an end time."
   ]
  },
  {
   "cell_type": "code",
   "execution_count": null,
   "metadata": {},
   "outputs": [],
   "source": [
    "filtered_trajectories = trajectories[(~trajectories['start_time'].isna()) & (~trajectories['end_time'].isna())]\n",
    "filtered_trajectories.drop(columns=['Unnamed: 0'], inplace=True)\n",
    "filtered_trajectories"
   ]
  },
  {
   "cell_type": "markdown",
   "metadata": {},
   "source": [
    "Now keep only the **positions of the vessels that appeared in the Piraeus Port.**"
   ]
  },
  {
   "cell_type": "code",
   "execution_count": null,
   "metadata": {},
   "outputs": [],
   "source": [
    "gdf_passenger = gdf[gdf['vessel_id'].isin(piraeus_passengers)]\n",
    "gdf_passenger"
   ]
  },
  {
   "cell_type": "markdown",
   "metadata": {},
   "source": [
    "Drop the rows with null course, because this feature is important for the location prediction."
   ]
  },
  {
   "cell_type": "markdown",
   "metadata": {},
   "source": [
    "gdf_passenger['course'].isna().sum()"
   ]
  },
  {
   "cell_type": "code",
   "execution_count": null,
   "metadata": {},
   "outputs": [],
   "source": [
    "gdf_passenger.dropna(subset=['course'],inplace= True)"
   ]
  },
  {
   "cell_type": "code",
   "execution_count": null,
   "metadata": {},
   "outputs": [],
   "source": [
    "gdf_passenger['course'].isna().sum()"
   ]
  },
  {
   "cell_type": "code",
   "execution_count": null,
   "metadata": {},
   "outputs": [],
   "source": [
    "len(piraeus_passengers)"
   ]
  },
  {
   "cell_type": "markdown",
   "metadata": {},
   "source": [
    "We have 35 unique vessels, lets plot a sample of these positions."
   ]
  },
  {
   "cell_type": "code",
   "execution_count": null,
   "metadata": {},
   "outputs": [],
   "source": [
    "gdf_passenger[['latitude','geometry']].sample(30000).explore()"
   ]
  },
  {
   "cell_type": "markdown",
   "metadata": {},
   "source": [
    "We can see that the trajectories seem to be moving from Piraeus to 3 main routes and back. Let's now keep only the trajectories of these specific 35 vessels."
   ]
  },
  {
   "cell_type": "markdown",
   "metadata": {},
   "source": [
    "trajectories_pass = filtered_trajectories[filtered_trajectories['vessel_id'].isin(piraeus_passengers)]\n",
    "trajectories_pass"
   ]
  },
  {
   "cell_type": "code",
   "execution_count": null,
   "metadata": {},
   "outputs": [],
   "source": [
    "trajectories_pass = trajectories_pass.sample(frac=1) # shuffle the dataframe\n",
    "trajectories_pass.reset_index(drop= True, inplace=True)\n",
    "trajectories_pass"
   ]
  },
  {
   "cell_type": "markdown",
   "metadata": {},
   "source": [
    "We will create a trajectory generator, which we'll use to enter every position sub gdf of each trajectory in a column named segments."
   ]
  },
  {
   "cell_type": "code",
   "execution_count": null,
   "metadata": {},
   "outputs": [],
   "source": [
    "def trajectory_generator(trajectories,gdf):\n",
    "        for _, traj in trajectories.iterrows():\n",
    "                start = traj['start_time']\n",
    "                end = traj['end_time']\n",
    "                vessel = traj['vessel_id']\n",
    "                subgdf = gdf[gdf['vessel_id'] == vessel]\n",
    "                seg = subgdf[(subgdf['t'] >= start) & (subgdf['t'] <= end)]\n",
    "                if len(seg) ==0:\n",
    "                        yield gpd.GeoDataFrame()\n",
    "                else:\n",
    "                        yield seg\n",
    "\n",
    "\n",
    "segments = []\n",
    "for seg in trajectory_generator(trajectories_pass,gdf_passenger):\n",
    "    segments.append(seg)"
   ]
  },
  {
   "cell_type": "markdown",
   "metadata": {},
   "source": [
    "**Now for every trajectory we have a corresponding segment column, that shows every vessels' position for that trajectory.**"
   ]
  },
  {
   "cell_type": "code",
   "execution_count": null,
   "metadata": {},
   "outputs": [],
   "source": [
    "trajectories_pass['segments'] = segments\n",
    "trajectories_pass"
   ]
  },
  {
   "cell_type": "markdown",
   "metadata": {},
   "source": [
    "Let's keep the trajectories that haven't got empty positions."
   ]
  },
  {
   "cell_type": "code",
   "execution_count": null,
   "metadata": {},
   "outputs": [],
   "source": [
    "traj_pos = trajectories_pass[trajectories_pass['segments'].apply(len) > 0].copy()\n",
    "\n",
    "traj_pos.reset_index(inplace=True, drop = True)\n",
    "\n",
    "traj_pos"
   ]
  },
  {
   "cell_type": "markdown",
   "metadata": {},
   "source": [
    "Now we will check the duration of each trajectory in order to see if there are trajectories that lasted way to long."
   ]
  },
  {
   "cell_type": "code",
   "execution_count": null,
   "metadata": {},
   "outputs": [],
   "source": [
    "traj_pos['duration'] = (traj_pos['end_time'] - traj_pos['start_time']).dt.total_seconds() / 60\n",
    "traj_pos"
   ]
  },
  {
   "cell_type": "code",
   "execution_count": null,
   "metadata": {},
   "outputs": [],
   "source": [
    "plt.boxplot(traj_pos['duration']);"
   ]
  },
  {
   "cell_type": "code",
   "execution_count": null,
   "metadata": {},
   "outputs": [],
   "source": [
    "plt.boxplot(traj_pos['duration'],showfliers = False);"
   ]
  },
  {
   "cell_type": "markdown",
   "metadata": {},
   "source": [
    "We will only the trajectories with duration over the 25% quantile of the dataset durations and with at least 30 positions in each trajectory."
   ]
  },
  {
   "cell_type": "code",
   "execution_count": null,
   "metadata": {},
   "outputs": [],
   "source": [
    "traj_pos= traj_pos[traj_pos['duration'] >= traj_pos['duration'].quantile(0.25)]\n",
    "traj_pos = traj_pos[traj_pos['segments'].apply(len) > 20]\n",
    "traj_pos.reset_index(drop = True,inplace=True)\n",
    "traj_pos"
   ]
  },
  {
   "cell_type": "markdown",
   "metadata": {},
   "source": [
    "Now we will apply a timestamp in seconds for every position in every trajectory in order to then use it to calclulate velocity, interpolated dt etc."
   ]
  },
  {
   "cell_type": "code",
   "execution_count": null,
   "metadata": {},
   "outputs": [],
   "source": [
    "from datetime import datetime\n",
    "\n",
    "def create_seconds(segment):\n",
    "    epoch_time = datetime(1970, 1, 1)\n",
    "    segment['time_sec'] = (segment['t'] - epoch_time).dt.total_seconds()\n",
    "    return segment"
   ]
  },
  {
   "cell_type": "code",
   "execution_count": null,
   "metadata": {},
   "outputs": [],
   "source": [
    "for segment in traj_pos['segments']:\n",
    "    segment = create_seconds(segment)"
   ]
  },
  {
   "cell_type": "markdown",
   "metadata": {},
   "source": [
    "Example of a trajectory segment:"
   ]
  },
  {
   "cell_type": "code",
   "execution_count": null,
   "metadata": {},
   "outputs": [],
   "source": [
    "traj_pos.loc[5,'segments'].head()"
   ]
  },
  {
   "cell_type": "markdown",
   "metadata": {},
   "source": [
    "Reset the indexes:"
   ]
  },
  {
   "cell_type": "code",
   "execution_count": null,
   "metadata": {},
   "outputs": [],
   "source": [
    "for segment in traj_pos['segments']:\n",
    "    segment.reset_index(drop=True, inplace=True)"
   ]
  },
  {
   "cell_type": "markdown",
   "metadata": {},
   "source": [
    "**We can see that in every trajectory there is a Δt that is very big. This is due to the loss of the signal near Aigina Island. So we want to split every existing trajectory into 2 sub trajectories (1 heading south and 1 north).**"
   ]
  },
  {
   "cell_type": "code",
   "execution_count": null,
   "metadata": {},
   "outputs": [],
   "source": [
    "maxes = []\n",
    "for segment in traj_pos['segments']:\n",
    "    maxes.append(segment['Δt'].max())\n",
    "\n",
    "np.max(maxes)"
   ]
  },
  {
   "cell_type": "code",
   "execution_count": null,
   "metadata": {},
   "outputs": [],
   "source": [
    "max_dt = []\n",
    "for i in range(len(traj_pos)):\n",
    "    max_dt.append(max(traj_pos.loc[i,'segments']['Δt'].value_counts().keys()))\n",
    "\n",
    "plt.boxplot(max_dt, showfliers=True);"
   ]
  },
  {
   "cell_type": "code",
   "execution_count": null,
   "metadata": {},
   "outputs": [],
   "source": [
    "plt.boxplot(max_dt, showfliers=False);"
   ]
  },
  {
   "cell_type": "code",
   "execution_count": null,
   "metadata": {},
   "outputs": [],
   "source": [
    "np.mean(max_dt)"
   ]
  },
  {
   "cell_type": "markdown",
   "metadata": {},
   "source": [
    "Recalculate the time difference between the timestamps for every segment and set the first dt = 0 :"
   ]
  },
  {
   "cell_type": "code",
   "execution_count": null,
   "metadata": {},
   "outputs": [],
   "source": [
    "for segment in traj_pos['segments']:\n",
    "    segment['dt'] = segment['time_sec'].diff()"
   ]
  },
  {
   "cell_type": "code",
   "execution_count": null,
   "metadata": {},
   "outputs": [],
   "source": [
    "for segment in traj_pos['segments']:\n",
    "    segment.loc[0,'dt'] = 0"
   ]
  },
  {
   "cell_type": "markdown",
   "metadata": {},
   "source": [
    "Let's check 1 random trajectory - segment:"
   ]
  },
  {
   "cell_type": "code",
   "execution_count": null,
   "metadata": {},
   "outputs": [],
   "source": [
    "import random\n",
    "idx = random.randint(0,len(traj_pos)-1)\n",
    "random_segment = traj_pos.loc[idx,'segments']\n",
    "gdf_temp = gpd.GeoDataFrame(random_segment, geometry=gpd.points_from_xy(random_segment.loc[:,'longitude'], random_segment.loc[:,'latitude']), crs=2100)\n",
    "gdf_temp[['time_sec','dt','id_x','geometry']].explore()"
   ]
  },
  {
   "cell_type": "markdown",
   "metadata": {},
   "source": [
    "As the map indicates, when the vessel was leaving from Piraeus heading south, we lost its signals. The signals returned when it was heading back to Piraeus 17363 seconds after the previous signal! **Here comes the need to split every trajectory into 2 subtrajectories (1 moving away from Piraeus and 1 moving to Piraeus) because this happens to all of our trajectories.**"
   ]
  },
  {
   "cell_type": "code",
   "execution_count": null,
   "metadata": {},
   "outputs": [],
   "source": [
    "new_segs = []\n",
    "threshold = 300 # 5 minutes without signal -> split the trajectory (don't interpolate in other words)\n",
    "for seg in traj_pos['segments']:\n",
    "\n",
    "    idx_sep = list(seg[seg['dt'] > threshold].index)\n",
    "    \n",
    "    start = 0\n",
    "    counter = 0\n",
    "    for i in range(len(idx_sep)):\n",
    "        end = idx_sep[i]\n",
    "        new_segs.append(seg.iloc[start:end])\n",
    "        start = end\n",
    "        counter += 1\n",
    "        if counter == len(idx_sep):\n",
    "            new_segs.append(seg.iloc[start:])"
   ]
  },
  {
   "cell_type": "code",
   "execution_count": null,
   "metadata": {},
   "outputs": [],
   "source": [
    "new_traj_data = pd.DataFrame(new_segs,columns=['segments'])"
   ]
  },
  {
   "cell_type": "code",
   "execution_count": null,
   "metadata": {},
   "outputs": [],
   "source": [
    "df_traj = new_traj_data[new_traj_data['segments'].apply(len) > 20]\n",
    "df_traj.reset_index(inplace=True,drop = True)\n",
    "df_traj\n"
   ]
  },
  {
   "cell_type": "markdown",
   "metadata": {},
   "source": [
    "Let's check again a random trajectory-segment:"
   ]
  },
  {
   "cell_type": "code",
   "execution_count": null,
   "metadata": {},
   "outputs": [],
   "source": [
    "idx = random.randint(0,len(df_traj)-1)\n",
    "random_segment = df_traj.loc[idx,'segments']\n",
    "gdf_temp = gpd.GeoDataFrame(random_segment, geometry=gpd.points_from_xy(random_segment.loc[:,'longitude'], random_segment.loc[:,'latitude']), crs=2100)\n",
    "gdf_temp[['time_sec','course','dt','id_x','geometry']].explore()"
   ]
  },
  {
   "cell_type": "markdown",
   "metadata": {},
   "source": [
    "So we can see that now we have a single real trajectory and not 2 subtrajectories inside 1. Now reset again the indexes."
   ]
  },
  {
   "cell_type": "code",
   "execution_count": null,
   "metadata": {},
   "outputs": [],
   "source": [
    "for segment in df_traj['segments']:\n",
    "    segment.reset_index(drop=True, inplace= True)"
   ]
  },
  {
   "cell_type": "markdown",
   "metadata": {},
   "source": [
    "**We will split the dataset to training and test. The training dataset will be the 80% of the trajectories of the vessel and the test dataset will be the remaining 20% trajectories**"
   ]
  },
  {
   "cell_type": "code",
   "execution_count": null,
   "metadata": {},
   "outputs": [],
   "source": [
    "sep = int(len(df_traj)*0.75)\n",
    "traj_train = df_traj[:sep]\n",
    "traj_test = df_traj[sep:]\n",
    "traj_train"
   ]
  },
  {
   "cell_type": "markdown",
   "metadata": {},
   "source": [
    "# Prepairing Data for the Model.<br>\n",
    "We will start by creating the following generators and functions:\n",
    "\n",
    "- **get_segments**: we will use this generator to iritate through the sub-trajectories and not having them loaded on memory.\n",
    "\n",
    "- **calculate_distance**: It calclulates the Euclidean Distance between two points in EPGS 2100\n",
    "\n",
    "- **interpolate** : We will use this function to apply linear interpolation in order to have synchronized timestamps timestamps\n",
    "\n",
    "- **calculate_dt**: It calculates the time difference between two signals/timestamps.\n",
    "\n",
    "- **balance_trajectories**: It is the function that returns the trajectory positions balanced, with synchronized timestamps.<br><br>\n",
    "\n",
    "The features we will are the following:\n",
    "\n",
    "- **lon** - Longitude\n",
    "\n",
    "- **lat** - Latitude\n",
    "\n",
    "- **timestamp** - Timestamp\n",
    "\n",
    "- **velocity** - Speed of vessels in that timestamp calclulated in m/s\n",
    "\n",
    "- **distance** - The distance of the vessel from its previous position\n",
    "\n",
    "- **distance_AIS** - The distance of the vessel from the Antenna (University of Piraeus)<br><br>\n",
    "\n",
    "Here are the University of Piraues coordinates that we will use for our antenna distance calclulation:\n",
    "\n",
    "**University of Piraeus in EPGS:4326** (23.647269,37.9438708)\n",
    "\n",
    "**University of Piraeus in EPGS:2100** (468857.80056930066,4199358.117602245)"
   ]
  },
  {
   "cell_type": "code",
   "execution_count": null,
   "metadata": {},
   "outputs": [],
   "source": [
    "unipi = [468857.80056930066,4199358.117602245]"
   ]
  }
 ],
 "metadata": {
  "language_info": {
   "name": "python"
  },
  "orig_nbformat": 4
 },
 "nbformat": 4,
 "nbformat_minor": 2
}
